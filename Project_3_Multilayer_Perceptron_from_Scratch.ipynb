{
  "nbformat": 4,
  "nbformat_minor": 0,
  "metadata": {
    "colab": {
      "provenance": [],
      "authorship_tag": "ABX9TyOAf17LDzbIoIl1rKRbjBxP",
      "include_colab_link": true
    },
    "kernelspec": {
      "name": "python3",
      "display_name": "Python 3"
    },
    "language_info": {
      "name": "python"
    }
  },
  "cells": [
    {
      "cell_type": "markdown",
      "metadata": {
        "id": "view-in-github",
        "colab_type": "text"
      },
      "source": [
        "<a href=\"https://colab.research.google.com/github/omniaghazy/100_projects_tensorflow/blob/main/Project_3_Multilayer_Perceptron_from_Scratch.ipynb\" target=\"_parent\"><img src=\"https://colab.research.google.com/assets/colab-badge.svg\" alt=\"Open In Colab\"/></a>"
      ]
    },
    {
      "cell_type": "markdown",
      "source": [
        "Description:\n",
        "Create a basic feedforward neural network (MLP) using TensorFlow 2 to classify data from the Iris dataset (3 classes)."
      ],
      "metadata": {
        "id": "YZIq-H5TQYGe"
      }
    },
    {
      "cell_type": "code",
      "source": [
        "import tensorflow as tf\n",
        "from sklearn.datasets import load_iris\n",
        "from sklearn.model_selection import train_test_split\n",
        "from sklearn.preprocessing import OneHotEncoder, StandardScaler\n",
        "\n",
        "# Load Iris dataset\n",
        "iris = load_iris()\n",
        "X = iris.data                                           # Features: sepal & petal length/width\n",
        "y = iris.target.reshape(-1, 1)                          # Labels: 0, 1, 2\n",
        "\n",
        "# One-hot encode labels for multi-class classification\n",
        "encoder = OneHotEncoder(sparse_output=False)\n",
        "y_encoded = encoder.fit_transform(y)                    # Convert to one-hot format\n",
        "\n",
        "# Standardize features\n",
        "scaler = StandardScaler()\n",
        "X_scaled = scaler.fit_transform(X)                      # Normalize features\n",
        "\n",
        "# Split into training and testing sets\n",
        "X_train, X_test, y_train, y_test = train_test_split(X_scaled, y_encoded, test_size=0.2, random_state=42)\n",
        "\n",
        "# Define the MLP model\n",
        "model = tf.keras.Sequential([\n",
        "    tf.keras.layers.Dense(10, activation='relu', input_shape=(4,)),   # First hidden layer with 10 ReLU units\n",
        "    tf.keras.layers.Dense(8, activation='relu'),                      # Second hidden layer with 8 ReLU units\n",
        "    tf.keras.layers.Dense(3, activation='softmax')                    # Output layer with softmax for 3 classes\n",
        "])\n",
        "\n",
        "# Compile the model with categorical crossentropy and Adam optimizer\n",
        "model.compile(optimizer='adam', loss='categorical_crossentropy', metrics=['accuracy'])\n",
        "\n",
        "# Train the model\n",
        "model.fit(X_train, y_train, epochs=100, verbose=0)        # Train silently for 100 epochs\n",
        "\n",
        "# Evaluate the model on the test set\n",
        "loss, acc = model.evaluate(X_test, y_test, verbose=0)     # Evaluate model performance\n",
        "print(f\"Test Accuracy: {acc:.2f}\")"
      ],
      "metadata": {
        "colab": {
          "base_uri": "https://localhost:8080/"
        },
        "id": "70kH-mw0Qayd",
        "outputId": "eb70e5ac-f598-4672-cad6-7ce8ceab47bd"
      },
      "execution_count": 1,
      "outputs": [
        {
          "output_type": "stream",
          "name": "stderr",
          "text": [
            "/usr/local/lib/python3.11/dist-packages/keras/src/layers/core/dense.py:87: UserWarning: Do not pass an `input_shape`/`input_dim` argument to a layer. When using Sequential models, prefer using an `Input(shape)` object as the first layer in the model instead.\n",
            "  super().__init__(activity_regularizer=activity_regularizer, **kwargs)\n"
          ]
        },
        {
          "output_type": "stream",
          "name": "stdout",
          "text": [
            "Test Accuracy: 0.97\n"
          ]
        }
      ]
    },
    {
      "cell_type": "code",
      "source": [],
      "metadata": {
        "id": "MgPO5HswRQle"
      },
      "execution_count": 1,
      "outputs": []
    }
  ]
}